{
  "nbformat": 4,
  "nbformat_minor": 0,
  "metadata": {
    "colab": {
      "name": "Q3 Learning Goals Reflection - Jasmine Gonzalez",
      "provenance": [],
      "collapsed_sections": [],
      "include_colab_link": true
    },
    "kernelspec": {
      "name": "python3",
      "display_name": "Python 3"
    }
  },
  "cells": [
    {
      "cell_type": "markdown",
      "metadata": {
        "id": "view-in-github",
        "colab_type": "text"
      },
      "source": [
        "<a href=\"https://colab.research.google.com/github/JasmineGonzalez2021/Computational-Modeling/blob/master/Q3_Learning_Goals_Reflection_Jasmine_Gonzalez.ipynb\" target=\"_parent\"><img src=\"https://colab.research.google.com/assets/colab-badge.svg\" alt=\"Open In Colab\"/></a>"
      ]
    },
    {
      "cell_type": "markdown",
      "metadata": {
        "id": "I3OXF4EgQkkq",
        "colab_type": "text"
      },
      "source": [
        "#Overview"
      ]
    },
    {
      "cell_type": "markdown",
      "metadata": {
        "id": "z32CHDw4QmsS",
        "colab_type": "text"
      },
      "source": [
        "Each of the below sections contains code that correlates to the specific learning goal and my reflection on it, synthesizing the most relevant/composite example for me to demonstrate mastery of each topic for simplicity's sake. My weekly Colabs, linked in my Q3 [Weblog](https://docs.google.com/document/d/1Cwra6OsLoNMALfbiLbYOotl8T_eVfqL-47zYzbkQZ6E/edit?usp=sharing), can provide more examples of this mastery if necessary.\n",
        "\n",
        "Please **run all cells in this colab**, as the some of the code in later sections builds off of that in earlier ones."
      ]
    },
    {
      "cell_type": "code",
      "metadata": {
        "id": "JWE5ENBkRACg",
        "colab_type": "code",
        "colab": {}
      },
      "source": [
        "import numpy as np \n",
        "import matplotlib.pyplot as plt\n",
        "from sklearn.model_selection import train_test_split\n",
        "from sklearn.linear_model import LinearRegression\n",
        "from sklearn.linear_model import LogisticRegression\n",
        "from sklearn.datasets import load_wine\n",
        "import urllib\n",
        "import os\n",
        "from sklearn import preprocessing\n",
        "from sklearn.preprocessing import StandardScaler\n",
        "from sklearn.neural_network import MLPClassifier\n",
        "from sklearn.metrics import classification_report, confusion_matrix\n",
        "from sklearn.cluster import KMeans\n",
        "from sklearn.datasets import make_blobs\n",
        "import pandas as pd\n",
        "import mpl_toolkits.mplot3d.axes3d as p3\n",
        "import colorsys\n",
        "from PIL import Image\n",
        "from urllib.request import urlopen\n",
        "from six.moves import urllib\n",
        "from google.colab import drive\n",
        "from operator import itemgetter \n",
        "import seaborn as sns\n",
        "from matplotlib.image import imread"
      ],
      "execution_count": 0,
      "outputs": []
    },
    {
      "cell_type": "markdown",
      "metadata": {
        "id": "kU2r_uL_QcaP",
        "colab_type": "text"
      },
      "source": [
        "#Learning Goal 3.2"
      ]
    },
    {
      "cell_type": "markdown",
      "metadata": {
        "id": "hhgvHuQaRVmr",
        "colab_type": "text"
      },
      "source": [
        "Below is an example of linear regression. This plots the linear relationship between two variables and makes predictions based off of that."
      ]
    },
    {
      "cell_type": "code",
      "metadata": {
        "id": "ONqYStfHQdKC",
        "colab_type": "code",
        "colab": {
          "base_uri": "https://localhost:8080/",
          "height": 1000
        },
        "outputId": "70ef6117-99d8-4c00-90a7-272771a2858b"
      },
      "source": [
        "web_file = urllib.request.urlopen(\"http://onlinestatbook.com/mobile/case_studies/data/sat.txt\")\n",
        "data = np.loadtxt(web_file, encoding='utf-8', delimiter = \" \", skiprows = 1)\n",
        "print(data)"
      ],
      "execution_count": 23,
      "outputs": [
        {
          "output_type": "stream",
          "text": [
            "[[  3.45 643.   589.     3.76   3.52]\n",
            " [  2.78 558.   512.     2.87   2.91]\n",
            " [  2.52 583.   503.     2.54   2.4 ]\n",
            " [  3.67 685.   602.     3.83   3.47]\n",
            " [  3.24 592.   538.     3.29   3.47]\n",
            " [  2.1  562.   486.     2.64   2.37]\n",
            " [  2.82 573.   548.     2.86   2.4 ]\n",
            " [  2.36 559.   536.     2.03   2.24]\n",
            " [  2.42 552.   583.     2.81   3.02]\n",
            " [  3.51 617.   591.     3.41   3.32]\n",
            " [  3.48 684.   649.     3.61   3.59]\n",
            " [  2.14 568.   592.     2.48   2.54]\n",
            " [  2.59 604.   582.     3.21   3.19]\n",
            " [  3.46 619.   624.     3.52   3.71]\n",
            " [  3.51 642.   619.     3.41   3.58]\n",
            " [  3.68 683.   642.     3.52   3.4 ]\n",
            " [  3.91 703.   684.     3.84   3.73]\n",
            " [  3.72 712.   652.     3.64   3.49]\n",
            " [  2.15 564.   501.     2.14   2.25]\n",
            " [  2.48 557.   549.     2.21   2.37]\n",
            " [  3.09 591.   584.     3.17   3.29]\n",
            " [  2.71 599.   562.     3.01   3.19]\n",
            " [  2.46 607.   619.     3.17   3.28]\n",
            " [  3.32 619.   558.     3.01   3.37]\n",
            " [  3.61 700.   721.     3.72   3.61]\n",
            " [  3.82 718.   732.     3.78   3.81]\n",
            " [  2.64 580.   538.     2.51   2.4 ]\n",
            " [  2.19 562.   507.     2.1    2.21]\n",
            " [  3.34 683.   648.     3.21   3.58]\n",
            " [  3.48 717.   724.     3.68   3.51]\n",
            " [  3.56 701.   714.     3.48   3.62]\n",
            " [  3.81 691.   684.     3.71   3.6 ]\n",
            " [  3.92 714.   706.     3.81   3.65]\n",
            " [  4.   689.   673.     3.84   3.76]\n",
            " [  2.52 554.   507.     2.09   2.27]\n",
            " [  2.71 564.   543.     2.17   2.35]\n",
            " [  3.15 668.   604.     2.98   3.17]\n",
            " [  3.22 691.   662.     3.28   3.47]\n",
            " [  2.29 573.   591.     2.74   3.  ]\n",
            " [  2.03 568.   517.     2.19   2.74]\n",
            " [  3.14 607.   624.     3.28   3.37]\n",
            " [  3.52 651.   683.     3.68   3.54]\n",
            " [  2.91 604.   583.     3.17   3.28]\n",
            " [  2.83 560.   542.     3.17   3.39]\n",
            " [  2.65 604.   617.     3.31   3.28]\n",
            " [  2.41 574.   548.     3.07   3.19]\n",
            " [  2.54 564.   500.     2.38   2.52]\n",
            " [  2.66 607.   528.     2.94   3.08]\n",
            " [  3.21 619.   573.     2.84   3.01]\n",
            " [  3.34 647.   608.     3.17   3.42]\n",
            " [  3.68 651.   683.     3.72   3.6 ]\n",
            " [  2.84 571.   543.     2.17   2.4 ]\n",
            " [  2.74 583.   510.     2.42   2.83]\n",
            " [  2.71 554.   538.     2.49   2.38]\n",
            " [  2.24 568.   519.     3.38   3.21]\n",
            " [  2.48 574.   602.     2.07   2.24]\n",
            " [  3.14 605.   619.     3.22   3.4 ]\n",
            " [  2.83 591.   584.     2.71   3.07]\n",
            " [  3.44 642.   608.     3.31   3.52]\n",
            " [  2.89 608.   573.     3.28   3.47]\n",
            " [  2.67 574.   538.     3.19   3.08]\n",
            " [  3.24 643.   607.     3.24   3.38]\n",
            " [  3.29 608.   649.     3.53   3.41]\n",
            " [  3.87 709.   688.     3.72   3.64]\n",
            " [  3.94 691.   645.     3.98   3.71]\n",
            " [  3.42 667.   583.     3.09   3.01]\n",
            " [  3.52 656.   609.     3.42   3.37]\n",
            " [  2.24 554.   542.     2.07   2.34]\n",
            " [  3.29 692.   563.     3.17   3.29]\n",
            " [  3.41 684.   672.     3.51   3.4 ]\n",
            " [  3.56 717.   649.     3.49   3.38]\n",
            " [  3.61 712.   708.     3.51   3.28]\n",
            " [  3.28 641.   608.     3.4    3.31]\n",
            " [  3.21 675.   632.     3.38   3.42]\n",
            " [  3.48 692.   698.     3.54   3.39]\n",
            " [  3.62 684.   609.     3.48   3.51]\n",
            " [  2.92 564.   591.     3.09   3.17]\n",
            " [  2.81 554.   509.     3.14   3.2 ]\n",
            " [  3.11 685.   694.     3.28   3.41]\n",
            " [  3.28 671.   609.     3.41   3.29]\n",
            " [  2.7  571.   503.     3.02   3.17]\n",
            " [  2.62 582.   591.     2.97   3.12]\n",
            " [  3.72 621.   589.     4.     3.71]\n",
            " [  3.42 651.   642.     3.34   3.5 ]\n",
            " [  3.51 673.   681.     3.28   3.34]\n",
            " [  3.28 651.   640.     3.32   3.48]\n",
            " [  3.42 672.   607.     3.51   3.44]\n",
            " [  3.9  591.   587.     3.68   3.59]\n",
            " [  3.12 582.   612.     3.07   3.28]\n",
            " [  2.83 609.   555.     2.78   3.  ]\n",
            " [  2.09 554.   480.     3.68   3.42]\n",
            " [  3.17 612.   590.     3.3    3.41]\n",
            " [  3.28 628.   580.     3.34   3.49]\n",
            " [  3.02 567.   602.     3.17   3.28]\n",
            " [  3.42 619.   623.     3.07   3.17]\n",
            " [  3.06 691.   683.     3.19   3.24]\n",
            " [  2.76 564.   549.     2.15   2.34]\n",
            " [  3.19 650.   684.     3.11   3.28]\n",
            " [  2.23 551.   554.     2.17   2.29]\n",
            " [  2.48 568.   541.     2.14   2.08]\n",
            " [  3.76 605.   590.     3.74   3.64]\n",
            " [  3.49 692.   683.     3.27   3.42]\n",
            " [  3.07 680.   692.     3.19   3.25]\n",
            " [  2.19 617.   503.     2.98   2.76]\n",
            " [  3.46 516.   528.     3.28   3.41]]\n"
          ],
          "name": "stdout"
        }
      ]
    },
    {
      "cell_type": "code",
      "metadata": {
        "id": "twSNZdbJneGn",
        "colab_type": "code",
        "colab": {
          "base_uri": "https://localhost:8080/",
          "height": 282
        },
        "outputId": "4bfbf710-5429-41e9-f9b0-2f54d242366b"
      },
      "source": [
        "hs_gpa = data[:, 0]\n",
        "col_gpa = data[:, 4]\n",
        "plt.scatter(hs_gpa, col_gpa)"
      ],
      "execution_count": 26,
      "outputs": [
        {
          "output_type": "execute_result",
          "data": {
            "text/plain": [
              "<matplotlib.collections.PathCollection at 0x7f094c8d2400>"
            ]
          },
          "metadata": {
            "tags": []
          },
          "execution_count": 26
        },
        {
          "output_type": "display_data",
          "data": {
            "image/png": "[encoded data removed]",
            "text/plain": [
              "<Figure size 432x288 with 1 Axes>"
            ]
          },
          "metadata": {
            "tags": []
          }
        }
      ]
    },
    {
      "cell_type": "code",
      "metadata": {
        "id": "E4dqlV_BniGo",
        "colab_type": "code",
        "colab": {}
      },
      "source": [
        "hs_gpa = hs_gpa.reshape(-1, 1)\n",
        "col_gpa = col_gpa.reshape(-1, 1)"
      ],
      "execution_count": 0,
      "outputs": []
    },
    {
      "cell_type": "code",
      "metadata": {
        "id": "siRmz-CGnFVE",
        "colab_type": "code",
        "colab": {
          "base_uri": "https://localhost:8080/",
          "height": 34
        },
        "outputId": "3d286fca-b71c-4e10-8ead-9fda2daaefbb"
      },
      "source": [
        "x_train, x_test, y_train, y_test = train_test_split(hs_gpa, col_gpa, test_size=0.25, random_state=0)\n",
        "LinearRegr = LinearRegression()\n",
        "LinearRegr.fit(x_train, y_train)"
      ],
      "execution_count": 30,
      "outputs": [
        {
          "output_type": "execute_result",
          "data": {
            "text/plain": [
              "LinearRegression(copy_X=True, fit_intercept=True, n_jobs=None, normalize=False)"
            ]
          },
          "metadata": {
            "tags": []
          },
          "execution_count": 30
        }
      ]
    },
    {
      "cell_type": "code",
      "metadata": {
        "id": "21XYBBmHnNNW",
        "colab_type": "code",
        "colab": {
          "base_uri": "https://localhost:8080/",
          "height": 476
        },
        "outputId": "8480ffb9-691a-4629-e8c4-bbe970ba3474"
      },
      "source": [
        "y_pred = LinearRegr.predict(x_test)\n",
        "y_pred"
      ],
      "execution_count": 41,
      "outputs": [
        {
          "output_type": "execute_result",
          "data": {
            "text/plain": [
              "array([[2.88747027],\n",
              "       [3.2849546 ],\n",
              "       [2.8079734 ],\n",
              "       [3.31807829],\n",
              "       [3.31145355],\n",
              "       [3.26508038],\n",
              "       [3.7288121 ],\n",
              "       [3.62944101],\n",
              "       [3.21870721],\n",
              "       [2.73510127],\n",
              "       [3.47044728],\n",
              "       [3.2518309 ],\n",
              "       [3.01996504],\n",
              "       [3.43069885],\n",
              "       [2.70197758],\n",
              "       [3.49694624],\n",
              "       [2.76822497],\n",
              "       [3.53006993],\n",
              "       [3.78843475],\n",
              "       [2.74172601],\n",
              "       [3.0133403 ],\n",
              "       [3.31807829],\n",
              "       [3.56981836],\n",
              "       [3.44394833],\n",
              "       [3.60294206],\n",
              "       [3.53669467],\n",
              "       [3.00671556]])"
            ]
          },
          "metadata": {
            "tags": []
          },
          "execution_count": 41
        }
      ]
    },
    {
      "cell_type": "code",
      "metadata": {
        "id": "WGIU_AY3o9gg",
        "colab_type": "code",
        "colab": {
          "base_uri": "https://localhost:8080/",
          "height": 476
        },
        "outputId": "364c429d-3ab5-48a4-aac6-38cb78f2d7b0"
      },
      "source": [
        "y_test"
      ],
      "execution_count": 43,
      "outputs": [
        {
          "output_type": "execute_result",
          "data": {
            "text/plain": [
              "array([[2.4 ],\n",
              "       [3.38],\n",
              "       [2.4 ],\n",
              "       [3.41],\n",
              "       [3.48],\n",
              "       [3.01],\n",
              "       [3.73],\n",
              "       [3.64],\n",
              "       [3.4 ],\n",
              "       [3.19],\n",
              "       [3.37],\n",
              "       [3.28],\n",
              "       [2.4 ],\n",
              "       [3.71],\n",
              "       [2.24],\n",
              "       [3.62],\n",
              "       [3.28],\n",
              "       [3.61],\n",
              "       [3.76],\n",
              "       [3.02],\n",
              "       [3.39],\n",
              "       [3.29],\n",
              "       [3.47],\n",
              "       [3.39],\n",
              "       [3.71],\n",
              "       [3.51],\n",
              "       [2.4 ]])"
            ]
          },
          "metadata": {
            "tags": []
          },
          "execution_count": 43
        }
      ]
    },
    {
      "cell_type": "code",
      "metadata": {
        "id": "shJ2XpcJoGna",
        "colab_type": "code",
        "colab": {
          "base_uri": "https://localhost:8080/",
          "height": 51
        },
        "outputId": "deefa92c-827e-4bbe-c26d-1663d5d8ed70"
      },
      "source": [
        "total = y_test.shape[0]\n",
        "rights = 0\n",
        "for n in range(total):\n",
        "  if abs(y_pred[n] - y_test[n]) <= 0.1:\n",
        "    rights = rights + 1\n",
        "print(total)\n",
        "print(rights)"
      ],
      "execution_count": 53,
      "outputs": [
        {
          "output_type": "stream",
          "text": [
            "27\n",
            "11\n"
          ],
          "name": "stdout"
        }
      ]
    },
    {
      "cell_type": "code",
      "metadata": {
        "id": "gYK8lY-eqXVE",
        "colab_type": "code",
        "colab": {
          "base_uri": "https://localhost:8080/",
          "height": 34
        },
        "outputId": "e7f475ed-6dc6-4edc-bd52-ab5b248708f3"
      },
      "source": [
        "perc_correct = (rights/total) * 100\n",
        "print(\"The linear regressor predicted \" + str(np.round(perc_correct, 2)) + \"% of the data correctly!\")"
      ],
      "execution_count": 55,
      "outputs": [
        {
          "output_type": "stream",
          "text": [
            "The linear regressor predicted 40.74% of the data correctly!\n"
          ],
          "name": "stdout"
        }
      ]
    },
    {
      "cell_type": "markdown",
      "metadata": {
        "id": "cBzAFyOSReUW",
        "colab_type": "text"
      },
      "source": [
        "Below is an example of logistic regression. This takes a number of inputs and correlates them to one of a discrete set of outputs."
      ]
    },
    {
      "cell_type": "code",
      "metadata": {
        "id": "Xr4Zrnc3Ro92",
        "colab_type": "code",
        "colab": {}
      },
      "source": [
        "from sklearn.datasets import load_wine\n",
        "wine = load_wine()"
      ],
      "execution_count": 0,
      "outputs": []
    },
    {
      "cell_type": "code",
      "metadata": {
        "id": "ZaPfuweukUT5",
        "colab_type": "code",
        "colab": {
          "base_uri": "https://localhost:8080/",
          "height": 51
        },
        "outputId": "de7b034f-60af-49a9-f088-42bb27873a81"
      },
      "source": [
        "print(\"Wine Data Shape\" , wine.data.shape)\n",
        "print(\"Label Data Shape\", wine.target.shape)"
      ],
      "execution_count": 3,
      "outputs": [
        {
          "output_type": "stream",
          "text": [
            "Wine Data Shape (178, 13)\n",
            "Label Data Shape (178,)\n"
          ],
          "name": "stdout"
        }
      ]
    },
    {
      "cell_type": "code",
      "metadata": {
        "id": "CXBLneckkcq2",
        "colab_type": "code",
        "colab": {
          "base_uri": "https://localhost:8080/",
          "height": 666
        },
        "outputId": "137ab135-dd85-46bd-ece9-853ef9e1b630"
      },
      "source": [
        "wine"
      ],
      "execution_count": 4,
      "outputs": [
        {
          "output_type": "execute_result",
          "data": {
            "text/plain": [
              "{'DESCR': '.. _wine_dataset:\\n\\nWine recognition dataset\\n------------------------\\n\\n**Data Set Characteristics:**\\n\\n    :Number of Instances: 178 (50 in each of three classes)\\n    :Number of Attributes: 13 numeric, predictive attributes and the class\\n    :Attribute Information:\\n \\t\\t- Alcohol\\n \\t\\t- Malic acid\\n \\t\\t- Ash\\n\\t\\t- Alcalinity of ash  \\n \\t\\t- Magnesium\\n\\t\\t- Total phenols\\n \\t\\t- Flavanoids\\n \\t\\t- Nonflavanoid phenols\\n \\t\\t- Proanthocyanins\\n\\t\\t- Color intensity\\n \\t\\t- Hue\\n \\t\\t- OD280/OD315 of diluted wines\\n \\t\\t- Proline\\n\\n    - class:\\n            - class_0\\n            - class_1\\n            - class_2\\n\\t\\t\\n    :Summary Statistics:\\n    \\n    ============================= ==== ===== ======= =====\\n                                   Min   Max   Mean     SD\\n    ============================= ==== ===== ======= =====\\n    Alcohol:                      11.0  14.8    13.0   0.8\\n    Malic Acid:                   0.74  5.80    2.34  1.12\\n    Ash:                          1.36  3.23    2.36  0.27\\n    Alcalinity of Ash:            10.6  30.0    19.5   3.3\\n    Magnesium:                    70.0 162.0    99.7  14.3\\n    Total Phenols:                0.98  3.88    2.29  0.63\\n    Flavanoids:                   0.34  5.08    2.03  1.00\\n    Nonflavanoid Phenols:         0.13  0.66    0.36  0.12\\n    Proanthocyanins:              0.41  3.58    1.59  0.57\\n    Colour Intensity:              1.3  13.0     5.1   2.3\\n    Hue:                          0.48  1.71    0.96  0.23\\n    OD280/OD315 of diluted wines: 1.27  4.00    2.61  0.71\\n    Proline:                       278  1680     746   315\\n    ============================= ==== ===== ======= =====\\n\\n    :Missing Attribute Values: None\\n    :Class Distribution: class_0 (59), class_1 (71), class_2 (48)\\n    :Creator: R.A. Fisher\\n    :Donor: Michael Marshall (MARSHALL%PLU@io.arc.nasa.gov)\\n    :Date: July, 1988\\n\\nThis is a copy of UCI ML Wine recognition datasets.\\nhttps://archive.ics.uci.edu/ml/machine-learning-databases/wine/wine.data\\n\\nThe data is the results of a chemical analysis of wines grown in the same\\nregion in Italy by three different cultivators. There are thirteen different\\nmeasurements taken for different constituents found in the three types of\\nwine.\\n\\nOriginal Owners: \\n\\nForina, M. et al, PARVUS - \\nAn Extendible Package for Data Exploration, Classification and Correlation. \\nInstitute of Pharmaceutical and Food Analysis and Technologies,\\nVia Brigata Salerno, 16147 Genoa, Italy.\\n\\nCitation:\\n\\nLichman, M. (2013). UCI Machine Learning Repository\\n[https://archive.ics.uci.edu/ml]. Irvine, CA: University of California,\\nSchool of Information and Computer Science. \\n\\n.. topic:: References\\n\\n  (1) S. Aeberhard, D. Coomans and O. de Vel, \\n  Comparison of Classifiers in High Dimensional Settings, \\n  Tech. Rep. no. 92-02, (1992), Dept. of Computer Science and Dept. of  \\n  Mathematics and Statistics, James Cook University of North Queensland. \\n  (Also submitted to Technometrics). \\n\\n  The data was used with many others for comparing various \\n  classifiers. The classes are separable, though only RDA \\n  has achieved 100% correct classification. \\n  (RDA : 100%, QDA 99.4%, LDA 98.9%, 1NN 96.1% (z-transformed data)) \\n  (All results using the leave-one-out technique) \\n\\n  (2) S. Aeberhard, D. Coomans and O. de Vel, \\n  \"THE CLASSIFICATION PERFORMANCE OF RDA\" \\n  Tech. Rep. no. 92-01, (1992), Dept. of Computer Science and Dept. of \\n  Mathematics and Statistics, James Cook University of North Queensland. \\n  (Also submitted to Journal of Chemometrics).\\n',\n",
              " 'data': array([[1.423e+01, 1.710e+00, 2.430e+00, ..., 1.040e+00, 3.920e+00,\n",
              "         1.065e+03],\n",
              "        [1.320e+01, 1.780e+00, 2.140e+00, ..., 1.050e+00, 3.400e+00,\n",
              "         1.050e+03],\n",
              "        [1.316e+01, 2.360e+00, 2.670e+00, ..., 1.030e+00, 3.170e+00,\n",
              "         1.185e+03],\n",
              "        ...,\n",
              "        [1.327e+01, 4.280e+00, 2.260e+00, ..., 5.900e-01, 1.560e+00,\n",
              "         8.350e+02],\n",
              "        [1.317e+01, 2.590e+00, 2.370e+00, ..., 6.000e-01, 1.620e+00,\n",
              "         8.400e+02],\n",
              "        [1.413e+01, 4.100e+00, 2.740e+00, ..., 6.100e-01, 1.600e+00,\n",
              "         5.600e+02]]),\n",
              " 'feature_names': ['alcohol',\n",
              "  'malic_acid',\n",
              "  'ash',\n",
              "  'alcalinity_of_ash',\n",
              "  'magnesium',\n",
              "  'total_phenols',\n",
              "  'flavanoids',\n",
              "  'nonflavanoid_phenols',\n",
              "  'proanthocyanins',\n",
              "  'color_intensity',\n",
              "  'hue',\n",
              "  'od280/od315_of_diluted_wines',\n",
              "  'proline'],\n",
              " 'target': array([0, 0, 0, 0, 0, 0, 0, 0, 0, 0, 0, 0, 0, 0, 0, 0, 0, 0, 0, 0, 0, 0,\n",
              "        0, 0, 0, 0, 0, 0, 0, 0, 0, 0, 0, 0, 0, 0, 0, 0, 0, 0, 0, 0, 0, 0,\n",
              "        0, 0, 0, 0, 0, 0, 0, 0, 0, 0, 0, 0, 0, 0, 0, 1, 1, 1, 1, 1, 1, 1,\n",
              "        1, 1, 1, 1, 1, 1, 1, 1, 1, 1, 1, 1, 1, 1, 1, 1, 1, 1, 1, 1, 1, 1,\n",
              "        1, 1, 1, 1, 1, 1, 1, 1, 1, 1, 1, 1, 1, 1, 1, 1, 1, 1, 1, 1, 1, 1,\n",
              "        1, 1, 1, 1, 1, 1, 1, 1, 1, 1, 1, 1, 1, 1, 1, 1, 1, 1, 1, 1, 2, 2,\n",
              "        2, 2, 2, 2, 2, 2, 2, 2, 2, 2, 2, 2, 2, 2, 2, 2, 2, 2, 2, 2, 2, 2,\n",
              "        2, 2, 2, 2, 2, 2, 2, 2, 2, 2, 2, 2, 2, 2, 2, 2, 2, 2, 2, 2, 2, 2,\n",
              "        2, 2]),\n",
              " 'target_names': array(['class_0', 'class_1', 'class_2'], dtype='<U7')}"
            ]
          },
          "metadata": {
            "tags": []
          },
          "execution_count": 4
        }
      ]
    },
    {
      "cell_type": "code",
      "metadata": {
        "id": "0Enzs9Rhkgkf",
        "colab_type": "code",
        "colab": {
          "base_uri": "https://localhost:8080/",
          "height": 238
        },
        "outputId": "7954a2dd-6aaf-4002-ecbe-b8dcf75f6da1"
      },
      "source": [
        "x_train, x_test, y_train, y_test = train_test_split(wine.data, wine.target, test_size=0.25, random_state=0)\n",
        "logisticRegr = LogisticRegression()\n",
        "logisticRegr.fit(x_train, y_train)"
      ],
      "execution_count": 6,
      "outputs": [
        {
          "output_type": "stream",
          "text": [
            "/usr/local/lib/python3.6/dist-packages/sklearn/linear_model/_logistic.py:940: ConvergenceWarning: lbfgs failed to converge (status=1):\n",
            "STOP: TOTAL NO. of ITERATIONS REACHED LIMIT.\n",
            "\n",
            "Increase the number of iterations (max_iter) or scale the data as shown in:\n",
            "    https://scikit-learn.org/stable/modules/preprocessing.html\n",
            "Please also refer to the documentation for alternative solver options:\n",
            "    https://scikit-learn.org/stable/modules/linear_model.html#logistic-regression\n",
            "  extra_warning_msg=_LOGISTIC_SOLVER_CONVERGENCE_MSG)\n"
          ],
          "name": "stderr"
        },
        {
          "output_type": "execute_result",
          "data": {
            "text/plain": [
              "LogisticRegression(C=1.0, class_weight=None, dual=False, fit_intercept=True,\n",
              "                   intercept_scaling=1, l1_ratio=None, max_iter=100,\n",
              "                   multi_class='auto', n_jobs=None, penalty='l2',\n",
              "                   random_state=None, solver='lbfgs', tol=0.0001, verbose=0,\n",
              "                   warm_start=False)"
            ]
          },
          "metadata": {
            "tags": []
          },
          "execution_count": 6
        }
      ]
    },
    {
      "cell_type": "code",
      "metadata": {
        "id": "8kpQrYnakqz2",
        "colab_type": "code",
        "colab": {
          "base_uri": "https://localhost:8080/",
          "height": 51
        },
        "outputId": "1803573d-0f17-4c66-dfe7-b04d86857aca"
      },
      "source": [
        "print(logisticRegr.predict(x_test[3].reshape(1,-1)))\n",
        "print(logisticRegr.predict(x_test[0:10]))"
      ],
      "execution_count": 12,
      "outputs": [
        {
          "output_type": "stream",
          "text": [
            "[0]\n",
            "[0 2 1 0 1 1 0 2 1 1]\n"
          ],
          "name": "stdout"
        }
      ]
    },
    {
      "cell_type": "code",
      "metadata": {
        "id": "NbSuL4rukvZt",
        "colab_type": "code",
        "colab": {
          "base_uri": "https://localhost:8080/",
          "height": 68
        },
        "outputId": "c396df2c-3ef9-4360-f91c-bc5f892feba3"
      },
      "source": [
        "predictions = logisticRegr.predict(x_test)\n",
        "predictions"
      ],
      "execution_count": 13,
      "outputs": [
        {
          "output_type": "execute_result",
          "data": {
            "text/plain": [
              "array([0, 2, 1, 0, 1, 1, 0, 2, 1, 1, 2, 2, 0, 1, 2, 1, 0, 0, 2, 0, 1, 0,\n",
              "       1, 1, 1, 1, 1, 1, 1, 2, 0, 0, 1, 0, 0, 0, 2, 1, 1, 2, 1, 0, 1, 1,\n",
              "       1])"
            ]
          },
          "metadata": {
            "tags": []
          },
          "execution_count": 13
        }
      ]
    },
    {
      "cell_type": "code",
      "metadata": {
        "id": "D3h5nFEQlBoB",
        "colab_type": "code",
        "colab": {
          "base_uri": "https://localhost:8080/",
          "height": 68
        },
        "outputId": "d348a4fe-c87e-47f3-b65b-2f51f4272476"
      },
      "source": [
        "y_test"
      ],
      "execution_count": 14,
      "outputs": [
        {
          "output_type": "execute_result",
          "data": {
            "text/plain": [
              "array([0, 2, 1, 0, 1, 1, 0, 2, 1, 1, 2, 2, 0, 1, 2, 1, 0, 0, 1, 0, 1, 0,\n",
              "       0, 1, 1, 1, 1, 1, 1, 2, 0, 0, 1, 0, 0, 0, 2, 1, 1, 2, 0, 0, 1, 1,\n",
              "       1])"
            ]
          },
          "metadata": {
            "tags": []
          },
          "execution_count": 14
        }
      ]
    },
    {
      "cell_type": "code",
      "metadata": {
        "id": "IUvFP1mOlJXp",
        "colab_type": "code",
        "colab": {
          "base_uri": "https://localhost:8080/",
          "height": 51
        },
        "outputId": "e3022976-2683-4b0c-a736-e721aea6057c"
      },
      "source": [
        "total = y_test.shape[0]\n",
        "rights = 0\n",
        "for n in range(total):\n",
        "  if predictions[n] == y_test[n]:\n",
        "    rights = rights + 1\n",
        "print(total)\n",
        "print(rights)"
      ],
      "execution_count": 15,
      "outputs": [
        {
          "output_type": "stream",
          "text": [
            "45\n",
            "42\n"
          ],
          "name": "stdout"
        }
      ]
    },
    {
      "cell_type": "code",
      "metadata": {
        "id": "Em3ttsM_lYnm",
        "colab_type": "code",
        "colab": {
          "base_uri": "https://localhost:8080/",
          "height": 34
        },
        "outputId": "b0440e1b-69f1-4dcb-b600-c8a715c3d1f9"
      },
      "source": [
        "perc_correct = (rights/total) * 100\n",
        "print(\"The logistic regressor predicted \" + str(np.round(perc_correct, 2)) + \"% of the data correctly!\")"
      ],
      "execution_count": 16,
      "outputs": [
        {
          "output_type": "stream",
          "text": [
            "The logistic regressor predicted 93.33% of the data correctly!\n"
          ],
          "name": "stdout"
        }
      ]
    },
    {
      "cell_type": "markdown",
      "metadata": {
        "id": "MpMXQwi4Rs2_",
        "colab_type": "text"
      },
      "source": [
        "Below is an example of KMeans clustering. This is where data is randomly generated and then clustered into groups that are deemed alike based on their relative proximity to one another. "
      ]
    },
    {
      "cell_type": "code",
      "metadata": {
        "id": "Nk-4J0rkR1pt",
        "colab_type": "code",
        "colab": {
          "base_uri": "https://localhost:8080/",
          "height": 442
        },
        "outputId": "431ea883-0805-43a8-ba35-ccba768f5b22"
      },
      "source": [
        "n_samples = 500\n",
        "random_state = 2500\n",
        "numCenters = 12\n",
        "\n",
        "predictedClusters = 3\n",
        "clusterMaker = KMeans(n_clusters=predictedClusters, random_state=random_state)\n",
        "y_pred = clusterMaker.fit_predict(X)\n",
        "centers = clusterMaker.cluster_centers_\n",
        "print(centers)\n",
        "\n",
        "plt.figure(figsize=(6, 6))\n",
        "plt.scatter(X[:, 0], X[:, 1], c = y_pred)\n",
        "plt.scatter(centers[:,0], centers[:,1], marker = 'D')"
      ],
      "execution_count": 19,
      "outputs": [
        {
          "output_type": "stream",
          "text": [
            "[[-8.39397734 -2.9941727 ]\n",
            " [ 1.15870849  9.2744755 ]\n",
            " [ 3.51245066  7.0904625 ]]\n"
          ],
          "name": "stdout"
        },
        {
          "output_type": "execute_result",
          "data": {
            "text/plain": [
              "<matplotlib.collections.PathCollection at 0x7f094fbd3198>"
            ]
          },
          "metadata": {
            "tags": []
          },
          "execution_count": 19
        },
        {
          "output_type": "display_data",
          "data": {
            "image/png": "[encoded data removed]",
            "text/plain": [
              "<Figure size 432x432 with 1 Axes>"
            ]
          },
          "metadata": {
            "tags": []
          }
        }
      ]
    },
    {
      "cell_type": "markdown",
      "metadata": {
        "id": "8PIuxqaATLLA",
        "colab_type": "text"
      },
      "source": [
        "Below is an example of a neural network. This is where a large number of inputs fed into the system each become a neuron attached to a series of weights and biases such that the error is minimized moving through the hidden layers of the neural network to return a value from a discrete set of outputs."
      ]
    },
    {
      "cell_type": "code",
      "metadata": {
        "id": "BVXbNzAXTrra",
        "colab_type": "code",
        "colab": {}
      },
      "source": [
        "url = \"https://archive.ics.uci.edu/ml/machine-learning-databases/iris/iris.data\"\n",
        "names = ['sepal-length', 'sepal-width', 'petal-length', 'petal-width', 'Class']\n",
        "irisdata = pd.read_csv(url, names=names)"
      ],
      "execution_count": 0,
      "outputs": []
    },
    {
      "cell_type": "code",
      "metadata": {
        "id": "9jnBir32rGOV",
        "colab_type": "code",
        "colab": {
          "base_uri": "https://localhost:8080/",
          "height": 419
        },
        "outputId": "f8056327-3411-449d-cb38-73b6b48ad3e3"
      },
      "source": [
        "irisdata"
      ],
      "execution_count": 58,
      "outputs": [
        {
          "output_type": "execute_result",
          "data": {
            "text/html": [
              "<div>\n",
              "<style scoped>\n",
              "    .dataframe tbody tr th:only-of-type {\n",
              "        vertical-align: middle;\n",
              "    }\n",
              "\n",
              "    .dataframe tbody tr th {\n",
              "        vertical-align: top;\n",
              "    }\n",
              "\n",
              "    .dataframe thead th {\n",
              "        text-align: right;\n",
              "    }\n",
              "</style>\n",
              "<table border=\"1\" class=\"dataframe\">\n",
              "  <thead>\n",
              "    <tr style=\"text-align: right;\">\n",
              "      <th></th>\n",
              "      <th>sepal-length</th>\n",
              "      <th>sepal-width</th>\n",
              "      <th>petal-length</th>\n",
              "      <th>petal-width</th>\n",
              "      <th>Class</th>\n",
              "    </tr>\n",
              "  </thead>\n",
              "  <tbody>\n",
              "    <tr>\n",
              "      <th>0</th>\n",
              "      <td>5.1</td>\n",
              "      <td>3.5</td>\n",
              "      <td>1.4</td>\n",
              "      <td>0.2</td>\n",
              "      <td>Iris-setosa</td>\n",
              "    </tr>\n",
              "    <tr>\n",
              "      <th>1</th>\n",
              "      <td>4.9</td>\n",
              "      <td>3.0</td>\n",
              "      <td>1.4</td>\n",
              "      <td>0.2</td>\n",
              "      <td>Iris-setosa</td>\n",
              "    </tr>\n",
              "    <tr>\n",
              "      <th>2</th>\n",
              "      <td>4.7</td>\n",
              "      <td>3.2</td>\n",
              "      <td>1.3</td>\n",
              "      <td>0.2</td>\n",
              "      <td>Iris-setosa</td>\n",
              "    </tr>\n",
              "    <tr>\n",
              "      <th>3</th>\n",
              "      <td>4.6</td>\n",
              "      <td>3.1</td>\n",
              "      <td>1.5</td>\n",
              "      <td>0.2</td>\n",
              "      <td>Iris-setosa</td>\n",
              "    </tr>\n",
              "    <tr>\n",
              "      <th>4</th>\n",
              "      <td>5.0</td>\n",
              "      <td>3.6</td>\n",
              "      <td>1.4</td>\n",
              "      <td>0.2</td>\n",
              "      <td>Iris-setosa</td>\n",
              "    </tr>\n",
              "    <tr>\n",
              "      <th>...</th>\n",
              "      <td>...</td>\n",
              "      <td>...</td>\n",
              "      <td>...</td>\n",
              "      <td>...</td>\n",
              "      <td>...</td>\n",
              "    </tr>\n",
              "    <tr>\n",
              "      <th>145</th>\n",
              "      <td>6.7</td>\n",
              "      <td>3.0</td>\n",
              "      <td>5.2</td>\n",
              "      <td>2.3</td>\n",
              "      <td>Iris-virginica</td>\n",
              "    </tr>\n",
              "    <tr>\n",
              "      <th>146</th>\n",
              "      <td>6.3</td>\n",
              "      <td>2.5</td>\n",
              "      <td>5.0</td>\n",
              "      <td>1.9</td>\n",
              "      <td>Iris-virginica</td>\n",
              "    </tr>\n",
              "    <tr>\n",
              "      <th>147</th>\n",
              "      <td>6.5</td>\n",
              "      <td>3.0</td>\n",
              "      <td>5.2</td>\n",
              "      <td>2.0</td>\n",
              "      <td>Iris-virginica</td>\n",
              "    </tr>\n",
              "    <tr>\n",
              "      <th>148</th>\n",
              "      <td>6.2</td>\n",
              "      <td>3.4</td>\n",
              "      <td>5.4</td>\n",
              "      <td>2.3</td>\n",
              "      <td>Iris-virginica</td>\n",
              "    </tr>\n",
              "    <tr>\n",
              "      <th>149</th>\n",
              "      <td>5.9</td>\n",
              "      <td>3.0</td>\n",
              "      <td>5.1</td>\n",
              "      <td>1.8</td>\n",
              "      <td>Iris-virginica</td>\n",
              "    </tr>\n",
              "  </tbody>\n",
              "</table>\n",
              "<p>150 rows × 5 columns</p>\n",
              "</div>"
            ],
            "text/plain": [
              "     sepal-length  sepal-width  petal-length  petal-width           Class\n",
              "0             5.1          3.5           1.4          0.2     Iris-setosa\n",
              "1             4.9          3.0           1.4          0.2     Iris-setosa\n",
              "2             4.7          3.2           1.3          0.2     Iris-setosa\n",
              "3             4.6          3.1           1.5          0.2     Iris-setosa\n",
              "4             5.0          3.6           1.4          0.2     Iris-setosa\n",
              "..            ...          ...           ...          ...             ...\n",
              "145           6.7          3.0           5.2          2.3  Iris-virginica\n",
              "146           6.3          2.5           5.0          1.9  Iris-virginica\n",
              "147           6.5          3.0           5.2          2.0  Iris-virginica\n",
              "148           6.2          3.4           5.4          2.3  Iris-virginica\n",
              "149           5.9          3.0           5.1          1.8  Iris-virginica\n",
              "\n",
              "[150 rows x 5 columns]"
            ]
          },
          "metadata": {
            "tags": []
          },
          "execution_count": 58
        }
      ]
    },
    {
      "cell_type": "code",
      "metadata": {
        "id": "0dY71SeyrJGM",
        "colab_type": "code",
        "colab": {
          "base_uri": "https://localhost:8080/",
          "height": 34
        },
        "outputId": "cae46c19-4dc0-46ac-efc2-ad699fcc19e3"
      },
      "source": [
        "X = irisdata.iloc[:, 0:4]\n",
        "y = irisdata.select_dtypes(include=[object])\n",
        "y.Class.unique()"
      ],
      "execution_count": 59,
      "outputs": [
        {
          "output_type": "execute_result",
          "data": {
            "text/plain": [
              "array(['Iris-setosa', 'Iris-versicolor', 'Iris-virginica'], dtype=object)"
            ]
          },
          "metadata": {
            "tags": []
          },
          "execution_count": 59
        }
      ]
    },
    {
      "cell_type": "code",
      "metadata": {
        "id": "LoMozc72rUJo",
        "colab_type": "code",
        "colab": {}
      },
      "source": [
        "le = preprocessing.LabelEncoder()\n",
        "\n",
        "y = y.apply(le.fit_transform)"
      ],
      "execution_count": 0,
      "outputs": []
    },
    {
      "cell_type": "code",
      "metadata": {
        "id": "zWw_YTOfrav7",
        "colab_type": "code",
        "colab": {
          "base_uri": "https://localhost:8080/",
          "height": 34
        },
        "outputId": "759cfd27-392d-47fc-ecac-c4b95a985fb0"
      },
      "source": [
        "y.Class.unique()"
      ],
      "execution_count": 61,
      "outputs": [
        {
          "output_type": "execute_result",
          "data": {
            "text/plain": [
              "array([0, 1, 2])"
            ]
          },
          "metadata": {
            "tags": []
          },
          "execution_count": 61
        }
      ]
    },
    {
      "cell_type": "code",
      "metadata": {
        "id": "nRCNcpd0rgZH",
        "colab_type": "code",
        "colab": {
          "base_uri": "https://localhost:8080/",
          "height": 153
        },
        "outputId": "82ecb312-8853-4f52-b4e8-27d8e54046bc"
      },
      "source": [
        "X_train, X_test, y_train, y_test = train_test_split(X, y, test_size = 0.20)\n",
        "scaler = StandardScaler()\n",
        "scaler.fit(X_train)\n",
        "\n",
        "X_train = scaler.transform(X_train)\n",
        "X_test = scaler.transform(X_test)\n",
        "mlp = MLPClassifier(hidden_layer_sizes=(10, 10, 10), max_iter=1000)\n",
        "mlp.fit(X_train, y_train.values.ravel())"
      ],
      "execution_count": 63,
      "outputs": [
        {
          "output_type": "execute_result",
          "data": {
            "text/plain": [
              "MLPClassifier(activation='relu', alpha=0.0001, batch_size='auto', beta_1=0.9,\n",
              "              beta_2=0.999, early_stopping=False, epsilon=1e-08,\n",
              "              hidden_layer_sizes=(10, 10, 10), learning_rate='constant',\n",
              "              learning_rate_init=0.001, max_fun=15000, max_iter=1000,\n",
              "              momentum=0.9, n_iter_no_change=10, nesterovs_momentum=True,\n",
              "              power_t=0.5, random_state=None, shuffle=True, solver='adam',\n",
              "              tol=0.0001, validation_fraction=0.1, verbose=False,\n",
              "              warm_start=False)"
            ]
          },
          "metadata": {
            "tags": []
          },
          "execution_count": 63
        }
      ]
    },
    {
      "cell_type": "code",
      "metadata": {
        "id": "0qsguV4QrsMU",
        "colab_type": "code",
        "colab": {
          "base_uri": "https://localhost:8080/",
          "height": 51
        },
        "outputId": "c0e96f60-6918-4e47-c6ab-5d37eca57486"
      },
      "source": [
        "predictions = mlp.predict(X_test)\n",
        "predictions"
      ],
      "execution_count": 65,
      "outputs": [
        {
          "output_type": "execute_result",
          "data": {
            "text/plain": [
              "array([1, 0, 2, 1, 2, 0, 0, 1, 1, 2, 0, 0, 2, 2, 1, 2, 0, 2, 2, 0, 0, 0,\n",
              "       2, 1, 2, 2, 1, 0, 2, 1])"
            ]
          },
          "metadata": {
            "tags": []
          },
          "execution_count": 65
        }
      ]
    },
    {
      "cell_type": "code",
      "metadata": {
        "id": "VvG02tmXru_0",
        "colab_type": "code",
        "colab": {
          "base_uri": "https://localhost:8080/",
          "height": 238
        },
        "outputId": "f5d82864-969f-4ceb-ede7-4b80c85d49ac"
      },
      "source": [
        "print(confusion_matrix(y_test,predictions))\n",
        "print(classification_report(y_test,predictions))"
      ],
      "execution_count": 66,
      "outputs": [
        {
          "output_type": "stream",
          "text": [
            "[[10  0  0]\n",
            " [ 0  8  1]\n",
            " [ 0  0 11]]\n",
            "              precision    recall  f1-score   support\n",
            "\n",
            "           0       1.00      1.00      1.00        10\n",
            "           1       1.00      0.89      0.94         9\n",
            "           2       0.92      1.00      0.96        11\n",
            "\n",
            "    accuracy                           0.97        30\n",
            "   macro avg       0.97      0.96      0.97        30\n",
            "weighted avg       0.97      0.97      0.97        30\n",
            "\n"
          ],
          "name": "stdout"
        }
      ]
    }
  ]
}