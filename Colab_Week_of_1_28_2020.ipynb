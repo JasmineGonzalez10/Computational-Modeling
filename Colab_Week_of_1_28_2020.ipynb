{
  "nbformat": 4,
  "nbformat_minor": 0,
  "metadata": {
    "colab": {
      "name": "Colab Week of 1.28.2020",
      "provenance": [],
      "authorship_tag": "ABX9TyOwxyTIah26B0CHAw7It4FM",
      "include_colab_link": true
    },
    "kernelspec": {
      "name": "python3",
      "display_name": "Python 3"
    }
  },
  "cells": [
    {
      "cell_type": "markdown",
      "metadata": {
        "id": "view-in-github",
        "colab_type": "text"
      },
      "source": [
        "<a href=\"https://colab.research.google.com/github/JasmineGonzalez2021/Computational-Modeling/blob/master/Colab_Week_of_1_28_2020.ipynb\" target=\"_parent\"><img src=\"https://colab.research.google.com/assets/colab-badge.svg\" alt=\"Open In Colab\"/></a>"
      ]
    },
    {
      "cell_type": "markdown",
      "metadata": {
        "id": "c25AxcO7XF1e",
        "colab_type": "text"
      },
      "source": [
        "#1.28.2020 IN CLASS"
      ]
    },
    {
      "cell_type": "code",
      "metadata": {
        "id": "0frU6SJuaYAd",
        "colab_type": "code",
        "colab": {}
      },
      "source": [
        "import numpy as np \n",
        "import matplotlib.pyplot as plt\n",
        "from sklearn.model_selection import train_test_split\n",
        "from sklearn.linear_model import LogisticRegression\n",
        "from sklearn.datasets import load_wine\n",
        "wine = load_wine()"
      ],
      "execution_count": 0,
      "outputs": []
    },
    {
      "cell_type": "code",
      "metadata": {
        "id": "IRw9GipqG5oc",
        "colab_type": "code",
        "outputId": "95a620d7-52b3-4fcf-908b-bb98c5715cdb",
        "colab": {
          "base_uri": "https://localhost:8080/",
          "height": 51
        }
      },
      "source": [
        "print(\"Wine Data Shape\" , wine.data.shape)\n",
        "print(\"Label Data Shape\", wine.target.shape)"
      ],
      "execution_count": 0,
      "outputs": [
        {
          "output_type": "stream",
          "text": [
            "Wine Data Shape (178, 13)\n",
            "Label Data Shape (178,)\n"
          ],
          "name": "stdout"
        }
      ]
    },
    {
      "cell_type": "code",
      "metadata": {
        "id": "X3u23yG_HHg7",
        "colab_type": "code",
        "outputId": "a863cb2e-e770-4bf3-d41b-ac2cbe084c0c",
        "colab": {
          "base_uri": "https://localhost:8080/",
          "height": 666
        }
      },
      "source": [
        "wine"
      ],
      "execution_count": 0,
      "outputs": [
        {
          "output_type": "execute_result",
          "data": {
            "text/plain": [
              "{'DESCR': '.. _wine_dataset:\\n\\nWine recognition dataset\\n------------------------\\n\\n**Data Set Characteristics:**\\n\\n    :Number of Instances: 178 (50 in each of three classes)\\n    :Number of Attributes: 13 numeric, predictive attributes and the class\\n    :Attribute Information:\\n \\t\\t- Alcohol\\n \\t\\t- Malic acid\\n \\t\\t- Ash\\n\\t\\t- Alcalinity of ash  \\n \\t\\t- Magnesium\\n\\t\\t- Total phenols\\n \\t\\t- Flavanoids\\n \\t\\t- Nonflavanoid phenols\\n \\t\\t- Proanthocyanins\\n\\t\\t- Color intensity\\n \\t\\t- Hue\\n \\t\\t- OD280/OD315 of diluted wines\\n \\t\\t- Proline\\n\\n    - class:\\n            - class_0\\n            - class_1\\n            - class_2\\n\\t\\t\\n    :Summary Statistics:\\n    \\n    ============================= ==== ===== ======= =====\\n                                   Min   Max   Mean     SD\\n    ============================= ==== ===== ======= =====\\n    Alcohol:                      11.0  14.8    13.0   0.8\\n    Malic Acid:                   0.74  5.80    2.34  1.12\\n    Ash:                          1.36  3.23    2.36  0.27\\n    Alcalinity of Ash:            10.6  30.0    19.5   3.3\\n    Magnesium:                    70.0 162.0    99.7  14.3\\n    Total Phenols:                0.98  3.88    2.29  0.63\\n    Flavanoids:                   0.34  5.08    2.03  1.00\\n    Nonflavanoid Phenols:         0.13  0.66    0.36  0.12\\n    Proanthocyanins:              0.41  3.58    1.59  0.57\\n    Colour Intensity:              1.3  13.0     5.1   2.3\\n    Hue:                          0.48  1.71    0.96  0.23\\n    OD280/OD315 of diluted wines: 1.27  4.00    2.61  0.71\\n    Proline:                       278  1680     746   315\\n    ============================= ==== ===== ======= =====\\n\\n    :Missing Attribute Values: None\\n    :Class Distribution: class_0 (59), class_1 (71), class_2 (48)\\n    :Creator: R.A. Fisher\\n    :Donor: Michael Marshall (MARSHALL%PLU@io.arc.nasa.gov)\\n    :Date: July, 1988\\n\\nThis is a copy of UCI ML Wine recognition datasets.\\nhttps://archive.ics.uci.edu/ml/machine-learning-databases/wine/wine.data\\n\\nThe data is the results of a chemical analysis of wines grown in the same\\nregion in Italy by three different cultivators. There are thirteen different\\nmeasurements taken for different constituents found in the three types of\\nwine.\\n\\nOriginal Owners: \\n\\nForina, M. et al, PARVUS - \\nAn Extendible Package for Data Exploration, Classification and Correlation. \\nInstitute of Pharmaceutical and Food Analysis and Technologies,\\nVia Brigata Salerno, 16147 Genoa, Italy.\\n\\nCitation:\\n\\nLichman, M. (2013). UCI Machine Learning Repository\\n[https://archive.ics.uci.edu/ml]. Irvine, CA: University of California,\\nSchool of Information and Computer Science. \\n\\n.. topic:: References\\n\\n  (1) S. Aeberhard, D. Coomans and O. de Vel, \\n  Comparison of Classifiers in High Dimensional Settings, \\n  Tech. Rep. no. 92-02, (1992), Dept. of Computer Science and Dept. of  \\n  Mathematics and Statistics, James Cook University of North Queensland. \\n  (Also submitted to Technometrics). \\n\\n  The data was used with many others for comparing various \\n  classifiers. The classes are separable, though only RDA \\n  has achieved 100% correct classification. \\n  (RDA : 100%, QDA 99.4%, LDA 98.9%, 1NN 96.1% (z-transformed data)) \\n  (All results using the leave-one-out technique) \\n\\n  (2) S. Aeberhard, D. Coomans and O. de Vel, \\n  \"THE CLASSIFICATION PERFORMANCE OF RDA\" \\n  Tech. Rep. no. 92-01, (1992), Dept. of Computer Science and Dept. of \\n  Mathematics and Statistics, James Cook University of North Queensland. \\n  (Also submitted to Journal of Chemometrics).\\n',\n",
              " 'data': array([[1.423e+01, 1.710e+00, 2.430e+00, ..., 1.040e+00, 3.920e+00,\n",
              "         1.065e+03],\n",
              "        [1.320e+01, 1.780e+00, 2.140e+00, ..., 1.050e+00, 3.400e+00,\n",
              "         1.050e+03],\n",
              "        [1.316e+01, 2.360e+00, 2.670e+00, ..., 1.030e+00, 3.170e+00,\n",
              "         1.185e+03],\n",
              "        ...,\n",
              "        [1.327e+01, 4.280e+00, 2.260e+00, ..., 5.900e-01, 1.560e+00,\n",
              "         8.350e+02],\n",
              "        [1.317e+01, 2.590e+00, 2.370e+00, ..., 6.000e-01, 1.620e+00,\n",
              "         8.400e+02],\n",
              "        [1.413e+01, 4.100e+00, 2.740e+00, ..., 6.100e-01, 1.600e+00,\n",
              "         5.600e+02]]),\n",
              " 'feature_names': ['alcohol',\n",
              "  'malic_acid',\n",
              "  'ash',\n",
              "  'alcalinity_of_ash',\n",
              "  'magnesium',\n",
              "  'total_phenols',\n",
              "  'flavanoids',\n",
              "  'nonflavanoid_phenols',\n",
              "  'proanthocyanins',\n",
              "  'color_intensity',\n",
              "  'hue',\n",
              "  'od280/od315_of_diluted_wines',\n",
              "  'proline'],\n",
              " 'target': array([0, 0, 0, 0, 0, 0, 0, 0, 0, 0, 0, 0, 0, 0, 0, 0, 0, 0, 0, 0, 0, 0,\n",
              "        0, 0, 0, 0, 0, 0, 0, 0, 0, 0, 0, 0, 0, 0, 0, 0, 0, 0, 0, 0, 0, 0,\n",
              "        0, 0, 0, 0, 0, 0, 0, 0, 0, 0, 0, 0, 0, 0, 0, 1, 1, 1, 1, 1, 1, 1,\n",
              "        1, 1, 1, 1, 1, 1, 1, 1, 1, 1, 1, 1, 1, 1, 1, 1, 1, 1, 1, 1, 1, 1,\n",
              "        1, 1, 1, 1, 1, 1, 1, 1, 1, 1, 1, 1, 1, 1, 1, 1, 1, 1, 1, 1, 1, 1,\n",
              "        1, 1, 1, 1, 1, 1, 1, 1, 1, 1, 1, 1, 1, 1, 1, 1, 1, 1, 1, 1, 2, 2,\n",
              "        2, 2, 2, 2, 2, 2, 2, 2, 2, 2, 2, 2, 2, 2, 2, 2, 2, 2, 2, 2, 2, 2,\n",
              "        2, 2, 2, 2, 2, 2, 2, 2, 2, 2, 2, 2, 2, 2, 2, 2, 2, 2, 2, 2, 2, 2,\n",
              "        2, 2]),\n",
              " 'target_names': array(['class_0', 'class_1', 'class_2'], dtype='<U7')}"
            ]
          },
          "metadata": {
            "tags": []
          },
          "execution_count": 7
        }
      ]
    },
    {
      "cell_type": "code",
      "metadata": {
        "id": "oxLXgs_dHJGE",
        "colab_type": "code",
        "colab": {}
      },
      "source": [
        "x_train, x_test, y_train, y_test = train_test_split(wine.data, wine.target, test_size=0.25, random_state=0)"
      ],
      "execution_count": 0,
      "outputs": []
    },
    {
      "cell_type": "code",
      "metadata": {
        "id": "yABkJ6kSHTVv",
        "colab_type": "code",
        "outputId": "34eb3d7a-3a5e-4b1f-f0a3-06f92dd27116",
        "colab": {
          "base_uri": "https://localhost:8080/",
          "height": 238
        }
      },
      "source": [
        "logisticRegr = LogisticRegression()\n",
        "logisticRegr.fit(x_train, y_train)"
      ],
      "execution_count": 0,
      "outputs": [
        {
          "output_type": "stream",
          "text": [
            "/usr/local/lib/python3.6/dist-packages/sklearn/linear_model/_logistic.py:940: ConvergenceWarning: lbfgs failed to converge (status=1):\n",
            "STOP: TOTAL NO. of ITERATIONS REACHED LIMIT.\n",
            "\n",
            "Increase the number of iterations (max_iter) or scale the data as shown in:\n",
            "    https://scikit-learn.org/stable/modules/preprocessing.html\n",
            "Please also refer to the documentation for alternative solver options:\n",
            "    https://scikit-learn.org/stable/modules/linear_model.html#logistic-regression\n",
            "  extra_warning_msg=_LOGISTIC_SOLVER_CONVERGENCE_MSG)\n"
          ],
          "name": "stderr"
        },
        {
          "output_type": "execute_result",
          "data": {
            "text/plain": [
              "LogisticRegression(C=1.0, class_weight=None, dual=False, fit_intercept=True,\n",
              "                   intercept_scaling=1, l1_ratio=None, max_iter=100,\n",
              "                   multi_class='auto', n_jobs=None, penalty='l2',\n",
              "                   random_state=None, solver='lbfgs', tol=0.0001, verbose=0,\n",
              "                   warm_start=False)"
            ]
          },
          "metadata": {
            "tags": []
          },
          "execution_count": 10
        }
      ]
    },
    {
      "cell_type": "code",
      "metadata": {
        "id": "mT6g0DzoHbJp",
        "colab_type": "code",
        "outputId": "97925b00-ccce-4455-f409-e6edeae17edc",
        "colab": {
          "base_uri": "https://localhost:8080/",
          "height": 34
        }
      },
      "source": [
        "logisticRegr.predict(x_test[0].reshape(1,-1))"
      ],
      "execution_count": 0,
      "outputs": [
        {
          "output_type": "execute_result",
          "data": {
            "text/plain": [
              "array([0])"
            ]
          },
          "metadata": {
            "tags": []
          },
          "execution_count": 11
        }
      ]
    },
    {
      "cell_type": "code",
      "metadata": {
        "id": "Wvnm8IVTHexl",
        "colab_type": "code",
        "outputId": "8fc45114-3cf4-4bd5-c832-aa034ef1c0b0",
        "colab": {
          "base_uri": "https://localhost:8080/",
          "height": 34
        }
      },
      "source": [
        "logisticRegr.predict(x_test[0:10])"
      ],
      "execution_count": 0,
      "outputs": [
        {
          "output_type": "execute_result",
          "data": {
            "text/plain": [
              "array([0, 2, 1, 0, 1, 1, 0, 2, 1, 1])"
            ]
          },
          "metadata": {
            "tags": []
          },
          "execution_count": 12
        }
      ]
    },
    {
      "cell_type": "code",
      "metadata": {
        "id": "MkvQ7KzIHiah",
        "colab_type": "code",
        "outputId": "457860e9-9660-4f96-835d-188883f1be0f",
        "colab": {
          "base_uri": "https://localhost:8080/",
          "height": 68
        }
      },
      "source": [
        "predictions = logisticRegr.predict(x_test)\n",
        "predictions"
      ],
      "execution_count": 0,
      "outputs": [
        {
          "output_type": "execute_result",
          "data": {
            "text/plain": [
              "array([0, 2, 1, 0, 1, 1, 0, 2, 1, 1, 2, 2, 0, 1, 2, 1, 0, 0, 2, 0, 1, 0,\n",
              "       1, 1, 1, 1, 1, 1, 1, 2, 0, 0, 1, 0, 0, 0, 2, 1, 1, 2, 1, 0, 1, 1,\n",
              "       1])"
            ]
          },
          "metadata": {
            "tags": []
          },
          "execution_count": 13
        }
      ]
    },
    {
      "cell_type": "code",
      "metadata": {
        "id": "UDAuypBWHmeS",
        "colab_type": "code",
        "outputId": "b3e21d8d-980f-4e78-f0aa-54f1f184cdd3",
        "colab": {
          "base_uri": "https://localhost:8080/",
          "height": 68
        }
      },
      "source": [
        "y_test"
      ],
      "execution_count": 0,
      "outputs": [
        {
          "output_type": "execute_result",
          "data": {
            "text/plain": [
              "array([0, 2, 1, 0, 1, 1, 0, 2, 1, 1, 2, 2, 0, 1, 2, 1, 0, 0, 1, 0, 1, 0,\n",
              "       0, 1, 1, 1, 1, 1, 1, 2, 0, 0, 1, 0, 0, 0, 2, 1, 1, 2, 0, 0, 1, 1,\n",
              "       1])"
            ]
          },
          "metadata": {
            "tags": []
          },
          "execution_count": 19
        }
      ]
    },
    {
      "cell_type": "code",
      "metadata": {
        "id": "IyCKb95_J8mV",
        "colab_type": "code",
        "outputId": "bb81debe-edb6-4580-fe17-23ff41243f4e",
        "colab": {
          "base_uri": "https://localhost:8080/",
          "height": 34
        }
      },
      "source": [
        "total = y_test.shape[0]\n",
        "total"
      ],
      "execution_count": 0,
      "outputs": [
        {
          "output_type": "execute_result",
          "data": {
            "text/plain": [
              "45"
            ]
          },
          "metadata": {
            "tags": []
          },
          "execution_count": 37
        }
      ]
    },
    {
      "cell_type": "code",
      "metadata": {
        "id": "8QxGmpJgKe_W",
        "colab_type": "code",
        "outputId": "6db04760-b596-4e44-a0c1-5eed00cc7d22",
        "colab": {
          "base_uri": "https://localhost:8080/",
          "height": 34
        }
      },
      "source": [
        "y_test[5]"
      ],
      "execution_count": 0,
      "outputs": [
        {
          "output_type": "execute_result",
          "data": {
            "text/plain": [
              "1"
            ]
          },
          "metadata": {
            "tags": []
          },
          "execution_count": 38
        }
      ]
    },
    {
      "cell_type": "code",
      "metadata": {
        "id": "u5eprtIHKNOa",
        "colab_type": "code",
        "outputId": "6139acbe-d8e8-41fd-87c8-b10c6a417f4c",
        "colab": {
          "base_uri": "https://localhost:8080/",
          "height": 34
        }
      },
      "source": [
        "rights = 0\n",
        "for n in range(total):\n",
        "  if predictions[n] == y_test[n]:\n",
        "    rights = rights + 1\n",
        "\n",
        "print(rights)"
      ],
      "execution_count": 0,
      "outputs": [
        {
          "output_type": "stream",
          "text": [
            "42\n"
          ],
          "name": "stdout"
        }
      ]
    },
    {
      "cell_type": "code",
      "metadata": {
        "id": "1SoWhBt4LctH",
        "colab_type": "code",
        "outputId": "2ec4b6e2-3eb0-4369-edbe-ef1f5b32de67",
        "colab": {
          "base_uri": "https://localhost:8080/",
          "height": 34
        }
      },
      "source": [
        "perc_correct = (rights/total) * 100\n",
        "print(\"The logistic regressor predicted \" + str(np.round(perc_correct, 2)) + \"% of the data correctly!\")"
      ],
      "execution_count": 0,
      "outputs": [
        {
          "output_type": "stream",
          "text": [
            "The logistic regressor predicted 93.33% of the data correctly!\n"
          ],
          "name": "stdout"
        }
      ]
    },
    {
      "cell_type": "code",
      "metadata": {
        "id": "e3eKclAEIGfO",
        "colab_type": "code",
        "outputId": "2a164217-8547-45ed-f09c-55bc2ae2fdf9",
        "colab": {
          "base_uri": "https://localhost:8080/",
          "height": 300
        }
      },
      "source": [
        "from sklearn.metrics import average_precision"
      ],
      "execution_count": 0,
      "outputs": [
        {
          "output_type": "error",
          "ename": "ImportError",
          "evalue": "ignored",
          "traceback": [
            "\u001b[0;31m---------------------------------------------------------------------------\u001b[0m",
            "\u001b[0;31mImportError\u001b[0m                               Traceback (most recent call last)",
            "\u001b[0;32m<ipython-input-48-afeab8c9a147>\u001b[0m in \u001b[0;36m<module>\u001b[0;34m()\u001b[0m\n\u001b[0;32m----> 1\u001b[0;31m \u001b[0;32mfrom\u001b[0m \u001b[0msklearn\u001b[0m\u001b[0;34m.\u001b[0m\u001b[0mmetrics\u001b[0m \u001b[0;32mimport\u001b[0m \u001b[0maverage_precision\u001b[0m\u001b[0;34m\u001b[0m\u001b[0;34m\u001b[0m\u001b[0m\n\u001b[0m",
            "\u001b[0;31mImportError\u001b[0m: cannot import name 'average_precision'",
            "",
            "\u001b[0;31m---------------------------------------------------------------------------\u001b[0;32m\nNOTE: If your import is failing due to a missing package, you can\nmanually install dependencies using either !pip or !apt.\n\nTo view examples of installing some common dependencies, click the\n\"Open Examples\" button below.\n\u001b[0;31m---------------------------------------------------------------------------\u001b[0m\n"
          ]
        }
      ]
    },
    {
      "cell_type": "code",
      "metadata": {
        "id": "Q8BV4nd_INI1",
        "colab_type": "code",
        "outputId": "1c4161ae-346d-4032-a447-2f1d923245f3",
        "colab": {
          "base_uri": "https://localhost:8080/",
          "height": 164
        }
      },
      "source": [
        "average_precision(y_test, predictions)"
      ],
      "execution_count": 0,
      "outputs": [
        {
          "output_type": "error",
          "ename": "NameError",
          "evalue": "ignored",
          "traceback": [
            "\u001b[0;31m---------------------------------------------------------------------------\u001b[0m",
            "\u001b[0;31mNameError\u001b[0m                                 Traceback (most recent call last)",
            "\u001b[0;32m<ipython-input-49-82efc86fbf2a>\u001b[0m in \u001b[0;36m<module>\u001b[0;34m()\u001b[0m\n\u001b[0;32m----> 1\u001b[0;31m \u001b[0maverage_precision\u001b[0m\u001b[0;34m(\u001b[0m\u001b[0my_test\u001b[0m\u001b[0;34m,\u001b[0m \u001b[0mpredictions\u001b[0m\u001b[0;34m)\u001b[0m\u001b[0;34m\u001b[0m\u001b[0;34m\u001b[0m\u001b[0m\n\u001b[0m",
            "\u001b[0;31mNameError\u001b[0m: name 'average_precision' is not defined"
          ]
        }
      ]
    },
    {
      "cell_type": "markdown",
      "metadata": {
        "id": "8KQL5VlKWcTJ",
        "colab_type": "text"
      },
      "source": [
        "#1.31.2020 IN CLASS"
      ]
    },
    {
      "cell_type": "code",
      "metadata": {
        "id": "dlxs4Vp8WfLW",
        "colab_type": "code",
        "outputId": "68bd2c8c-5377-4dd6-8d3a-d98f0b0163b2",
        "colab": {
          "base_uri": "https://localhost:8080/",
          "height": 391
        }
      },
      "source": [
        "import numpy as np\n",
        "import urllib\n",
        "import matplotlib.pyplot as plt\n",
        "import pandas as pd\n",
        "from sklearn.cluster import KMeans\n",
        "from sklearn.datasets import make_blobs\n",
        "\n",
        "plt.figure(figsize = (6,6))\n",
        "\n",
        "n_samples = 1500\n",
        "random_state = 1200\n",
        "numCenters = 12\n",
        "X, y = make_blobs(n_samples=n_samples, random_state=random_state)\n",
        "y_pred = KMeans(n_clusters=2, random_state=random_state).fit_predict(X)\n",
        "\n",
        "predictedClusters = 5\n",
        "\n",
        "#plt.subplot(221)\n",
        "#plt.scatter(X[:,0], X[:,1])\n",
        "plt.scatter(X[:,0], X[:,1], c=y_pred)\n",
        "#plt.title('Incorrect Number of Blobs')"
      ],
      "execution_count": 0,
      "outputs": [
        {
          "output_type": "execute_result",
          "data": {
            "text/plain": [
              "<matplotlib.collections.PathCollection at 0x7f05abf475c0>"
            ]
          },
          "metadata": {
            "tags": []
          },
          "execution_count": 2
        },
        {
          "output_type": "display_data",
          "data": {
            "image/png": "[encoded data removed]",
            "text/plain": [
              "<Figure size 432x432 with 1 Axes>"
            ]
          },
          "metadata": {
            "tags": []
          }
        }
      ]
    },
    {
      "cell_type": "code",
      "metadata": {
        "id": "4DporuChXXsG",
        "colab_type": "code",
        "outputId": "6280a373-0b0d-454c-f51b-a80adb561c69",
        "colab": {
          "base_uri": "https://localhost:8080/",
          "height": 1000
        }
      },
      "source": [
        "web_file = urllib.request.urlopen(\"http://onlinestatbook.com/mobile/case_studies/data/sat.txt\")\n",
        "data = np.loadtxt(web_file, encoding='utf-8', delimiter = \" \", skiprows = 1)\n",
        "data"
      ],
      "execution_count": 0,
      "outputs": [
        {
          "output_type": "execute_result",
          "data": {
            "text/plain": [
              "array([[  3.45, 643.  , 589.  ,   3.76,   3.52],\n",
              "       [  2.78, 558.  , 512.  ,   2.87,   2.91],\n",
              "       [  2.52, 583.  , 503.  ,   2.54,   2.4 ],\n",
              "       [  3.67, 685.  , 602.  ,   3.83,   3.47],\n",
              "       [  3.24, 592.  , 538.  ,   3.29,   3.47],\n",
              "       [  2.1 , 562.  , 486.  ,   2.64,   2.37],\n",
              "       [  2.82, 573.  , 548.  ,   2.86,   2.4 ],\n",
              "       [  2.36, 559.  , 536.  ,   2.03,   2.24],\n",
              "       [  2.42, 552.  , 583.  ,   2.81,   3.02],\n",
              "       [  3.51, 617.  , 591.  ,   3.41,   3.32],\n",
              "       [  3.48, 684.  , 649.  ,   3.61,   3.59],\n",
              "       [  2.14, 568.  , 592.  ,   2.48,   2.54],\n",
              "       [  2.59, 604.  , 582.  ,   3.21,   3.19],\n",
              "       [  3.46, 619.  , 624.  ,   3.52,   3.71],\n",
              "       [  3.51, 642.  , 619.  ,   3.41,   3.58],\n",
              "       [  3.68, 683.  , 642.  ,   3.52,   3.4 ],\n",
              "       [  3.91, 703.  , 684.  ,   3.84,   3.73],\n",
              "       [  3.72, 712.  , 652.  ,   3.64,   3.49],\n",
              "       [  2.15, 564.  , 501.  ,   2.14,   2.25],\n",
              "       [  2.48, 557.  , 549.  ,   2.21,   2.37],\n",
              "       [  3.09, 591.  , 584.  ,   3.17,   3.29],\n",
              "       [  2.71, 599.  , 562.  ,   3.01,   3.19],\n",
              "       [  2.46, 607.  , 619.  ,   3.17,   3.28],\n",
              "       [  3.32, 619.  , 558.  ,   3.01,   3.37],\n",
              "       [  3.61, 700.  , 721.  ,   3.72,   3.61],\n",
              "       [  3.82, 718.  , 732.  ,   3.78,   3.81],\n",
              "       [  2.64, 580.  , 538.  ,   2.51,   2.4 ],\n",
              "       [  2.19, 562.  , 507.  ,   2.1 ,   2.21],\n",
              "       [  3.34, 683.  , 648.  ,   3.21,   3.58],\n",
              "       [  3.48, 717.  , 724.  ,   3.68,   3.51],\n",
              "       [  3.56, 701.  , 714.  ,   3.48,   3.62],\n",
              "       [  3.81, 691.  , 684.  ,   3.71,   3.6 ],\n",
              "       [  3.92, 714.  , 706.  ,   3.81,   3.65],\n",
              "       [  4.  , 689.  , 673.  ,   3.84,   3.76],\n",
              "       [  2.52, 554.  , 507.  ,   2.09,   2.27],\n",
              "       [  2.71, 564.  , 543.  ,   2.17,   2.35],\n",
              "       [  3.15, 668.  , 604.  ,   2.98,   3.17],\n",
              "       [  3.22, 691.  , 662.  ,   3.28,   3.47],\n",
              "       [  2.29, 573.  , 591.  ,   2.74,   3.  ],\n",
              "       [  2.03, 568.  , 517.  ,   2.19,   2.74],\n",
              "       [  3.14, 607.  , 624.  ,   3.28,   3.37],\n",
              "       [  3.52, 651.  , 683.  ,   3.68,   3.54],\n",
              "       [  2.91, 604.  , 583.  ,   3.17,   3.28],\n",
              "       [  2.83, 560.  , 542.  ,   3.17,   3.39],\n",
              "       [  2.65, 604.  , 617.  ,   3.31,   3.28],\n",
              "       [  2.41, 574.  , 548.  ,   3.07,   3.19],\n",
              "       [  2.54, 564.  , 500.  ,   2.38,   2.52],\n",
              "       [  2.66, 607.  , 528.  ,   2.94,   3.08],\n",
              "       [  3.21, 619.  , 573.  ,   2.84,   3.01],\n",
              "       [  3.34, 647.  , 608.  ,   3.17,   3.42],\n",
              "       [  3.68, 651.  , 683.  ,   3.72,   3.6 ],\n",
              "       [  2.84, 571.  , 543.  ,   2.17,   2.4 ],\n",
              "       [  2.74, 583.  , 510.  ,   2.42,   2.83],\n",
              "       [  2.71, 554.  , 538.  ,   2.49,   2.38],\n",
              "       [  2.24, 568.  , 519.  ,   3.38,   3.21],\n",
              "       [  2.48, 574.  , 602.  ,   2.07,   2.24],\n",
              "       [  3.14, 605.  , 619.  ,   3.22,   3.4 ],\n",
              "       [  2.83, 591.  , 584.  ,   2.71,   3.07],\n",
              "       [  3.44, 642.  , 608.  ,   3.31,   3.52],\n",
              "       [  2.89, 608.  , 573.  ,   3.28,   3.47],\n",
              "       [  2.67, 574.  , 538.  ,   3.19,   3.08],\n",
              "       [  3.24, 643.  , 607.  ,   3.24,   3.38],\n",
              "       [  3.29, 608.  , 649.  ,   3.53,   3.41],\n",
              "       [  3.87, 709.  , 688.  ,   3.72,   3.64],\n",
              "       [  3.94, 691.  , 645.  ,   3.98,   3.71],\n",
              "       [  3.42, 667.  , 583.  ,   3.09,   3.01],\n",
              "       [  3.52, 656.  , 609.  ,   3.42,   3.37],\n",
              "       [  2.24, 554.  , 542.  ,   2.07,   2.34],\n",
              "       [  3.29, 692.  , 563.  ,   3.17,   3.29],\n",
              "       [  3.41, 684.  , 672.  ,   3.51,   3.4 ],\n",
              "       [  3.56, 717.  , 649.  ,   3.49,   3.38],\n",
              "       [  3.61, 712.  , 708.  ,   3.51,   3.28],\n",
              "       [  3.28, 641.  , 608.  ,   3.4 ,   3.31],\n",
              "       [  3.21, 675.  , 632.  ,   3.38,   3.42],\n",
              "       [  3.48, 692.  , 698.  ,   3.54,   3.39],\n",
              "       [  3.62, 684.  , 609.  ,   3.48,   3.51],\n",
              "       [  2.92, 564.  , 591.  ,   3.09,   3.17],\n",
              "       [  2.81, 554.  , 509.  ,   3.14,   3.2 ],\n",
              "       [  3.11, 685.  , 694.  ,   3.28,   3.41],\n",
              "       [  3.28, 671.  , 609.  ,   3.41,   3.29],\n",
              "       [  2.7 , 571.  , 503.  ,   3.02,   3.17],\n",
              "       [  2.62, 582.  , 591.  ,   2.97,   3.12],\n",
              "       [  3.72, 621.  , 589.  ,   4.  ,   3.71],\n",
              "       [  3.42, 651.  , 642.  ,   3.34,   3.5 ],\n",
              "       [  3.51, 673.  , 681.  ,   3.28,   3.34],\n",
              "       [  3.28, 651.  , 640.  ,   3.32,   3.48],\n",
              "       [  3.42, 672.  , 607.  ,   3.51,   3.44],\n",
              "       [  3.9 , 591.  , 587.  ,   3.68,   3.59],\n",
              "       [  3.12, 582.  , 612.  ,   3.07,   3.28],\n",
              "       [  2.83, 609.  , 555.  ,   2.78,   3.  ],\n",
              "       [  2.09, 554.  , 480.  ,   3.68,   3.42],\n",
              "       [  3.17, 612.  , 590.  ,   3.3 ,   3.41],\n",
              "       [  3.28, 628.  , 580.  ,   3.34,   3.49],\n",
              "       [  3.02, 567.  , 602.  ,   3.17,   3.28],\n",
              "       [  3.42, 619.  , 623.  ,   3.07,   3.17],\n",
              "       [  3.06, 691.  , 683.  ,   3.19,   3.24],\n",
              "       [  2.76, 564.  , 549.  ,   2.15,   2.34],\n",
              "       [  3.19, 650.  , 684.  ,   3.11,   3.28],\n",
              "       [  2.23, 551.  , 554.  ,   2.17,   2.29],\n",
              "       [  2.48, 568.  , 541.  ,   2.14,   2.08],\n",
              "       [  3.76, 605.  , 590.  ,   3.74,   3.64],\n",
              "       [  3.49, 692.  , 683.  ,   3.27,   3.42],\n",
              "       [  3.07, 680.  , 692.  ,   3.19,   3.25],\n",
              "       [  2.19, 617.  , 503.  ,   2.98,   2.76],\n",
              "       [  3.46, 516.  , 528.  ,   3.28,   3.41]])"
            ]
          },
          "metadata": {
            "tags": []
          },
          "execution_count": 3
        }
      ]
    },
    {
      "cell_type": "code",
      "metadata": {
        "id": "jjYzGnlQcRXv",
        "colab_type": "code",
        "outputId": "3408a168-c338-4596-a4f7-d3e7d5cc91e4",
        "colab": {
          "base_uri": "https://localhost:8080/",
          "height": 282
        }
      },
      "source": [
        "hs_gpa = data[:, 0]\n",
        "col_gpa = data[:, 4]\n",
        "plt.scatter(hs_gpa, col_gpa)"
      ],
      "execution_count": 0,
      "outputs": [
        {
          "output_type": "execute_result",
          "data": {
            "text/plain": [
              "<matplotlib.collections.PathCollection at 0x7f05a8e45b70>"
            ]
          },
          "metadata": {
            "tags": []
          },
          "execution_count": 4
        },
        {
          "output_type": "display_data",
          "data": {
            "image/png": "[encoded data removed]",
            "text/plain": [
              "<Figure size 432x288 with 1 Axes>"
            ]
          },
          "metadata": {
            "tags": []
          }
        }
      ]
    },
    {
      "cell_type": "code",
      "metadata": {
        "id": "R-6KsN1IeICZ",
        "colab_type": "code",
        "outputId": "4a7acd1c-9797-40e2-d350-706051ff0f42",
        "colab": {
          "base_uri": "https://localhost:8080/",
          "height": 1000
        }
      },
      "source": [
        "X = np.stack([hs_gpa, col_gpa]).T\n",
        "X"
      ],
      "execution_count": 0,
      "outputs": [
        {
          "output_type": "execute_result",
          "data": {
            "text/plain": [
              "array([[3.45, 3.52],\n",
              "       [2.78, 2.91],\n",
              "       [2.52, 2.4 ],\n",
              "       [3.67, 3.47],\n",
              "       [3.24, 3.47],\n",
              "       [2.1 , 2.37],\n",
              "       [2.82, 2.4 ],\n",
              "       [2.36, 2.24],\n",
              "       [2.42, 3.02],\n",
              "       [3.51, 3.32],\n",
              "       [3.48, 3.59],\n",
              "       [2.14, 2.54],\n",
              "       [2.59, 3.19],\n",
              "       [3.46, 3.71],\n",
              "       [3.51, 3.58],\n",
              "       [3.68, 3.4 ],\n",
              "       [3.91, 3.73],\n",
              "       [3.72, 3.49],\n",
              "       [2.15, 2.25],\n",
              "       [2.48, 2.37],\n",
              "       [3.09, 3.29],\n",
              "       [2.71, 3.19],\n",
              "       [2.46, 3.28],\n",
              "       [3.32, 3.37],\n",
              "       [3.61, 3.61],\n",
              "       [3.82, 3.81],\n",
              "       [2.64, 2.4 ],\n",
              "       [2.19, 2.21],\n",
              "       [3.34, 3.58],\n",
              "       [3.48, 3.51],\n",
              "       [3.56, 3.62],\n",
              "       [3.81, 3.6 ],\n",
              "       [3.92, 3.65],\n",
              "       [4.  , 3.76],\n",
              "       [2.52, 2.27],\n",
              "       [2.71, 2.35],\n",
              "       [3.15, 3.17],\n",
              "       [3.22, 3.47],\n",
              "       [2.29, 3.  ],\n",
              "       [2.03, 2.74],\n",
              "       [3.14, 3.37],\n",
              "       [3.52, 3.54],\n",
              "       [2.91, 3.28],\n",
              "       [2.83, 3.39],\n",
              "       [2.65, 3.28],\n",
              "       [2.41, 3.19],\n",
              "       [2.54, 2.52],\n",
              "       [2.66, 3.08],\n",
              "       [3.21, 3.01],\n",
              "       [3.34, 3.42],\n",
              "       [3.68, 3.6 ],\n",
              "       [2.84, 2.4 ],\n",
              "       [2.74, 2.83],\n",
              "       [2.71, 2.38],\n",
              "       [2.24, 3.21],\n",
              "       [2.48, 2.24],\n",
              "       [3.14, 3.4 ],\n",
              "       [2.83, 3.07],\n",
              "       [3.44, 3.52],\n",
              "       [2.89, 3.47],\n",
              "       [2.67, 3.08],\n",
              "       [3.24, 3.38],\n",
              "       [3.29, 3.41],\n",
              "       [3.87, 3.64],\n",
              "       [3.94, 3.71],\n",
              "       [3.42, 3.01],\n",
              "       [3.52, 3.37],\n",
              "       [2.24, 2.34],\n",
              "       [3.29, 3.29],\n",
              "       [3.41, 3.4 ],\n",
              "       [3.56, 3.38],\n",
              "       [3.61, 3.28],\n",
              "       [3.28, 3.31],\n",
              "       [3.21, 3.42],\n",
              "       [3.48, 3.39],\n",
              "       [3.62, 3.51],\n",
              "       [2.92, 3.17],\n",
              "       [2.81, 3.2 ],\n",
              "       [3.11, 3.41],\n",
              "       [3.28, 3.29],\n",
              "       [2.7 , 3.17],\n",
              "       [2.62, 3.12],\n",
              "       [3.72, 3.71],\n",
              "       [3.42, 3.5 ],\n",
              "       [3.51, 3.34],\n",
              "       [3.28, 3.48],\n",
              "       [3.42, 3.44],\n",
              "       [3.9 , 3.59],\n",
              "       [3.12, 3.28],\n",
              "       [2.83, 3.  ],\n",
              "       [2.09, 3.42],\n",
              "       [3.17, 3.41],\n",
              "       [3.28, 3.49],\n",
              "       [3.02, 3.28],\n",
              "       [3.42, 3.17],\n",
              "       [3.06, 3.24],\n",
              "       [2.76, 2.34],\n",
              "       [3.19, 3.28],\n",
              "       [2.23, 2.29],\n",
              "       [2.48, 2.08],\n",
              "       [3.76, 3.64],\n",
              "       [3.49, 3.42],\n",
              "       [3.07, 3.25],\n",
              "       [2.19, 2.76],\n",
              "       [3.46, 3.41]])"
            ]
          },
          "metadata": {
            "tags": []
          },
          "execution_count": 5
        }
      ]
    },
    {
      "cell_type": "code",
      "metadata": {
        "id": "YFjxtxTMb3-q",
        "colab_type": "code",
        "outputId": "a0eac01a-15e7-4de7-bbb0-c5afe6e82eb1",
        "colab": {
          "base_uri": "https://localhost:8080/",
          "height": 442
        }
      },
      "source": [
        "n_samples = 500\n",
        "random_state = 2500\n",
        "numCenters = 12\n",
        "\n",
        "predictedClusters = 3\n",
        "clusterMaker = KMeans(n_clusters=predictedClusters, random_state=random_state)\n",
        "y_pred = clusterMaker.fit_predict(X)\n",
        "centers = clusterMaker.cluster_centers_\n",
        "print(centers)\n",
        "\n",
        "plt.figure(figsize=(6, 6))\n",
        "plt.scatter(X[:, 0], X[:, 1], c = y_pred)\n",
        "plt.scatter(centers[:,0], centers[:,1], marker = 'D')\n"
      ],
      "execution_count": 0,
      "outputs": [
        {
          "output_type": "stream",
          "text": [
            "[[2.75068966 3.17482759]\n",
            " [2.4347619  2.37571429]\n",
            " [3.49309091 3.47618182]]\n"
          ],
          "name": "stdout"
        },
        {
          "output_type": "execute_result",
          "data": {
            "text/plain": [
              "<matplotlib.collections.PathCollection at 0x7f05a86b41d0>"
            ]
          },
          "metadata": {
            "tags": []
          },
          "execution_count": 17
        },
        {
          "output_type": "display_data",
          "data": {
            "image/png": "[encoded data removed]",
            "text/plain": [
              "<Figure size 432x432 with 1 Axes>"
            ]
          },
          "metadata": {
            "tags": []
          }
        }
      ]
    },
    {
      "cell_type": "code",
      "metadata": {
        "id": "DdQB3h4tQ0Gi",
        "colab_type": "code",
        "colab": {}
      },
      "source": [
        ""
      ],
      "execution_count": 0,
      "outputs": []
    }
  ]
}