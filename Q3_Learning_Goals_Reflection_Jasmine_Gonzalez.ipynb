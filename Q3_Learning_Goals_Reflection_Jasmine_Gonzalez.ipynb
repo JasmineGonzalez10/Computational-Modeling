{
  "nbformat": 4,
  "nbformat_minor": 0,
  "metadata": {
    "colab": {
      "name": "Q3 Learning Goals Reflection - Jasmine Gonzalez",
      "provenance": [],
      "collapsed_sections": [],
      "include_colab_link": true
    },
    "kernelspec": {
      "name": "python3",
      "display_name": "Python 3"
    }
  },
  "cells": [
    {
      "cell_type": "markdown",
      "metadata": {
        "id": "view-in-github",
        "colab_type": "text"
      },
      "source": [
        "<a href=\"https://colab.research.google.com/github/JasmineGonzalez2021/Computational-Modeling/blob/master/Q3_Learning_Goals_Reflection_Jasmine_Gonzalez.ipynb\" target=\"_parent\"><img src=\"https://colab.research.google.com/assets/colab-badge.svg\" alt=\"Open In Colab\"/></a>"
      ]
    },
    {
      "cell_type": "markdown",
      "metadata": {
        "id": "I3OXF4EgQkkq",
        "colab_type": "text"
      },
      "source": [
        "#Overview"
      ]
    },
    {
      "cell_type": "markdown",
      "metadata": {
        "id": "z32CHDw4QmsS",
        "colab_type": "text"
      },
      "source": [
        "Each of the below sections contains code that correlates to the specific learning goal and my reflection on it, synthesizing the most relevant/composite example for me to demonstrate mastery of each topic for simplicity's sake. My weekly Colabs, linked in my Q3 [Weblog](https://docs.google.com/document/d/1Cwra6OsLoNMALfbiLbYOotl8T_eVfqL-47zYzbkQZ6E/edit?usp=sharing), can provide more examples of this mastery if necessary.\n",
        "\n",
        "Please **run all cells in this colab**, as the some of the code in later sections builds off of that in earlier ones."
      ]
    },
    {
      "cell_type": "code",
      "metadata": {
        "id": "JWE5ENBkRACg",
        "colab_type": "code",
        "colab": {}
      },
      "source": [
        "import numpy as np \n",
        "import matplotlib.pyplot as plt\n",
        "from sklearn.model_selection import train_test_split\n",
        "from sklearn.linear_model import LogisticRegression\n",
        "from sklearn.datasets import load_wine\n",
        "import urllib\n",
        "import os\n",
        "from sklearn import preprocessing\n",
        "from sklearn.preprocessing import StandardScaler\n",
        "from sklearn.neural_network import MLPClassifier\n",
        "from sklearn.metrics import classification_report, confusion_matrix\n",
        "from sklearn.cluster import KMeans\n",
        "from sklearn.datasets import make_blobs\n",
        "import pandas as pd\n",
        "import mpl_toolkits.mplot3d.axes3d as p3\n",
        "import colorsys\n",
        "from PIL import Image\n",
        "from urllib.request import urlopen\n",
        "from six.moves import urllib\n",
        "from google.colab import drive\n",
        "from operator import itemgetter \n",
        "import seaborn as sns\n",
        "from matplotlib.image import imread"
      ],
      "execution_count": 0,
      "outputs": []
    },
    {
      "cell_type": "markdown",
      "metadata": {
        "id": "kU2r_uL_QcaP",
        "colab_type": "text"
      },
      "source": [
        "#Learning Goal 3.2"
      ]
    },
    {
      "cell_type": "markdown",
      "metadata": {
        "id": "hhgvHuQaRVmr",
        "colab_type": "text"
      },
      "source": [
        "Below is an example of linear regression. This plots the linear relationship between two variables and makes predictions based off of that."
      ]
    },
    {
      "cell_type": "code",
      "metadata": {
        "id": "ONqYStfHQdKC",
        "colab_type": "code",
        "colab": {}
      },
      "source": [
        ""
      ],
      "execution_count": 0,
      "outputs": []
    },
    {
      "cell_type": "markdown",
      "metadata": {
        "id": "cBzAFyOSReUW",
        "colab_type": "text"
      },
      "source": [
        "Below is an example of logistic regression. This takes a number of inputs and correlates them to one of a discrete set of outputs."
      ]
    },
    {
      "cell_type": "code",
      "metadata": {
        "id": "Xr4Zrnc3Ro92",
        "colab_type": "code",
        "colab": {}
      },
      "source": [
        ""
      ],
      "execution_count": 0,
      "outputs": []
    },
    {
      "cell_type": "markdown",
      "metadata": {
        "id": "MpMXQwi4Rs2_",
        "colab_type": "text"
      },
      "source": [
        "Below is an example of KMeans clustering, where data is randomly generated and then clustered into groups that are deemed alike based on their relative proximity to one another. "
      ]
    },
    {
      "cell_type": "code",
      "metadata": {
        "id": "Nk-4J0rkR1pt",
        "colab_type": "code",
        "colab": {}
      },
      "source": [
        ""
      ],
      "execution_count": 0,
      "outputs": []
    },
    {
      "cell_type": "markdown",
      "metadata": {
        "id": "8PIuxqaATLLA",
        "colab_type": "text"
      },
      "source": [
        "Below is an example of a neural network, where a large number of inputs fed into the system each become a neuron attached to a series of weights and biases such that the error is minimized moving through the hidden layers of the neural network to return a value from a discrete set of outputs."
      ]
    },
    {
      "cell_type": "code",
      "metadata": {
        "id": "BVXbNzAXTrra",
        "colab_type": "code",
        "colab": {}
      },
      "source": [
        ""
      ],
      "execution_count": 0,
      "outputs": []
    }
  ]
}